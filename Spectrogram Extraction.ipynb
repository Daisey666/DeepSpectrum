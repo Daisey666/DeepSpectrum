{
 "cells": [
  {
   "cell_type": "code",
   "execution_count": 8,
   "metadata": {
    "collapsed": false
   },
   "outputs": [],
   "source": [
    "import wave\n",
    "import matplotlib.pyplot as plt\n",
    "from os import listdir\n",
    "from os.path import join, isfile, basename, abspath, dirname\n",
    "from PIL import Image\n",
    "import numpy as np\n",
    "from scipy.io import wavfile\n",
    "from ipy_progressbar import ProgressBar"
   ]
  },
  {
   "cell_type": "code",
   "execution_count": 9,
   "metadata": {
    "collapsed": true
   },
   "outputs": [],
   "source": [
    "def get_wav_info(wav_file):\n",
    "    frame_rate, sound_info = wavfile.read(wav_file)\n",
    "    sound_info = np.trim_zeros(sound_info)\n",
    "    return sound_info, frame_rate"
   ]
  },
  {
   "cell_type": "code",
   "execution_count": 33,
   "metadata": {
    "collapsed": false
   },
   "outputs": [],
   "source": [
    "def graph_spectrogram(wav_file, output_dir, cmap):\n",
    "    file_path = abspath(wav_file)\n",
    "    file_name = basename(file_path)\n",
    "    sound_info, frame_rate = get_wav_info(wav_file)\n",
    "    #fig = plt.figure(num=None, figsize=(5, 5))\n",
    "    #plt.title(\"Spectrogram\")\n",
    "    fig = plt.figure(frameon = False)\n",
    "    fig.set_size_inches(3, 3)\n",
    "    ax = plt.Axes(fig, [0., 0., 1., 1.], )\n",
    "    ax.set_axis_off()\n",
    "    fig.add_axes(ax)\n",
    "\n",
    "    spec = plt.specgram(sound_info, Fs=frame_rate, cmap=cmap)\n",
    "    plt.xlim([0, len(sound_info)/frame_rate])\n",
    "    plt.ylim([0,frame_rate/2])\n",
    "    #plt.axis(\"off\")\n",
    "    plt.savefig(join(output_dir,file_name[:-4]+\".png\"), dpi=129)#, bbox_inches=0)\n",
    "    plt.close(\"all\")\n",
    "    #with open('spectrogram.png', 'r+b') as f:\n",
    "    #    with Image.open(f) as image:\n",
    "    #        w, h = image.size\n",
    "    #        image.crop((63, 50, w-50, h-63)).save(join(output_dir,file_name[:-4]+\".png\"), \"png\")"
   ]
  },
  {
   "cell_type": "code",
   "execution_count": 11,
   "metadata": {
    "collapsed": false
   },
   "outputs": [],
   "source": [
    "def graph_spectrogram_chunks(wav_file, chunksize_ms, NFFT, noverlap):\n",
    "    file_path = abspath(wav_file)\n",
    "    file_name = basename(file_path)\n",
    "    output_dir = join(dirname(dirname(file_path)), \"viridis_chunks\")\n",
    "    sound_info, frame_rate = get_wav_info(wav_file)\n",
    "    chunksize = chunksize_ms/1000*frame_rate\n",
    "    \n",
    "    chunks = [sound_info[n*chunksize:min((n+1)*chunksize, len(sound_info))] for n in range(int(len(sound_info)/chunksize))]\n",
    "    idx = 0\n",
    "    for chunk in ProgressBar(chunks):\n",
    "        #if not isfile(join(output_dir,file_name[:-4]+\"_%04d\" % (idx,)+\".png\")):\n",
    "        fig = plt.figure(num=None, figsize=(5, 5))\n",
    "        spec = plt.specgram(chunk, NFFT=NFFT, noverlap=noverlap, Fs=frame_rate, cmap=\"viridis\")\n",
    "        plt.xlim([0, len(chunk)/frame_rate])\n",
    "        plt.axis(\"off\")\n",
    "        plt.savefig('spectrogram.png', bbox_inches='tight')\n",
    "        plt.close(\"all\")\n",
    "        with open('spectrogram.png', 'r+b') as f:\n",
    "            with Image.open(f) as image:\n",
    "                w, h = image.size\n",
    "                image.crop((51, 17, w-33, h-30)).save(join(output_dir,file_name[:-4]+\"_%04d\" % (idx,)+\".png\"), \"png\")\n",
    "        idx += 1"
   ]
  },
  {
   "cell_type": "markdown",
   "metadata": {},
   "source": [
    "Just creating filelists for the different IS tasks."
   ]
  },
  {
   "cell_type": "code",
   "execution_count": 12,
   "metadata": {
    "collapsed": true
   },
   "outputs": [],
   "source": [
    "cold = '/home/maurice/Desktop/INTERSPEECH/Cold_dist/wav'\n",
    "addressee = '/home/maurice/Desktop/INTERSPEECH/Addressee_dist/wav'\n",
    "snore = '/home/maurice/Desktop/INTERSPEECH/Snore_dist/wav'\n",
    "cold_files = [join(cold, f) for f in listdir(cold) if isfile(join(cold, f))]\n",
    "addressee_files = [join(addressee, f) for f in listdir(addressee) if isfile(join(addressee, f))]\n",
    "snore_files = [join(snore, f) for f in listdir(snore) if isfile(join(snore, f))]"
   ]
  },
  {
   "cell_type": "code",
   "execution_count": 34,
   "metadata": {
    "collapsed": false,
    "scrolled": true
   },
   "outputs": [],
   "source": [
    "files = snore_files #+ snore_files + snore_files\n",
    "number_of_files = len(files)\n",
    "output_dir = '/home/maurice/Desktop/INTERSPEECH/Snore_dist/viridis_test'\n",
    "cmap = 'viridis'\n",
    "for file in ProgressBar(files):\n",
    "    graph_spectrogram(file, output_dir, cmap)"
   ]
  },
  {
   "cell_type": "code",
   "execution_count": null,
   "metadata": {
    "collapsed": true
   },
   "outputs": [],
   "source": []
  }
 ],
 "metadata": {
  "kernelspec": {
   "display_name": "Python 3",
   "language": "python",
   "name": "python3"
  },
  "language_info": {
   "codemirror_mode": {
    "name": "ipython",
    "version": 3
   },
   "file_extension": ".py",
   "mimetype": "text/x-python",
   "name": "python",
   "nbconvert_exporter": "python",
   "pygments_lexer": "ipython3",
   "version": "3.5.2"
  },
  "widgets": {
   "state": {
    "9fd1f69753f44d808ed6a5389cb094d7": {
     "views": [
      {
       "cell_index": 6
      }
     ]
    }
   },
   "version": "1.2.0"
  }
 },
 "nbformat": 4,
 "nbformat_minor": 2
}
